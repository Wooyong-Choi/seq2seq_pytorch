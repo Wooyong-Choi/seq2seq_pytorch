{
 "cells": [
  {
   "cell_type": "code",
   "execution_count": 1,
   "metadata": {},
   "outputs": [],
   "source": [
    "import os\n",
    "import pickle\n",
    "import time\n",
    "import random\n",
    "\n",
    "import torch\n",
    "\n",
    "import numpy as np\n",
    "\n",
    "from konlpy.tag import Twitter\n",
    "\n",
    "from tqdm import tqdm\n",
    "\n",
    "from seq2seq.dataset import Dataset\n",
    "from seq2seq.model import Seq2seqModel\n",
    "from seq2seq.trainer import Trainer"
   ]
  },
  {
   "cell_type": "code",
   "execution_count": 2,
   "metadata": {},
   "outputs": [
    {
     "data": {
      "text/plain": [
       "True"
      ]
     },
     "execution_count": 2,
     "metadata": {},
     "output_type": "execute_result"
    }
   ],
   "source": [
    "USE_CUDA = torch.cuda.is_available()\n",
    "GPU_ID = 1\n",
    "\n",
    "USE_CUDA"
   ]
  },
  {
   "cell_type": "markdown",
   "metadata": {},
   "source": [
    "# 1. Preprocess Dataset"
   ]
  },
  {
   "cell_type": "code",
   "execution_count": 3,
   "metadata": {},
   "outputs": [],
   "source": [
    "SRC_FILE_PATH = 'dataset/korean_dialog/hangul_src.txt'\n",
    "TGT_FILE_PATH = 'dataset/korean_dialog/hangul_tgt.txt'\n",
    "\n",
    "EXPR_PATH = 'experiment/'\n",
    "\n",
    "DATASET_PKL = EXPR_PATH + 'dataset.pkl'\n",
    "MODEL_PKL = EXPR_PATH + 'test_model10.model'\n",
    "\n",
    "BATCH_SIZE = 512\n",
    "MAX_LENGTH = 30"
   ]
  },
  {
   "cell_type": "code",
   "execution_count": 4,
   "metadata": {},
   "outputs": [],
   "source": [
    "tagger = Twitter()"
   ]
  },
  {
   "cell_type": "code",
   "execution_count": 5,
   "metadata": {
    "scrolled": true
   },
   "outputs": [],
   "source": [
    "if os.path.isfile(DATASET_PKL):\n",
    "    with open(DATASET_PKL, 'rb') as fp:\n",
    "        dataset = pickle.load(fp)\n",
    "else:\n",
    "#    start_time = time.time()\n",
    "    dataset = Dataset(\n",
    "        src_file_path=SRC_FILE_PATH,\n",
    "        tgt_file_path=TGT_FILE_PATH,\n",
    "        max_length=MAX_LENGTH\n",
    "    )\n",
    "    dataset.prepareData(tagger=tagger)\n",
    "#    print(\"--- %s seconds ---\" % (time.time() - start_time))\n",
    "    with open(DATASET_PKL, 'wb') as fp:\n",
    "        pickle.dump(dataset, fp)"
   ]
  },
  {
   "cell_type": "markdown",
   "metadata": {},
   "source": [
    "# 2. Define Model"
   ]
  },
  {
   "cell_type": "code",
   "execution_count": 6,
   "metadata": {},
   "outputs": [],
   "source": [
    "INPUT_SIZE = dataset.src_vocab_size\n",
    "HIDDEN_SIZE = 1024\n",
    "OUTPUT_SIZE = dataset.tgt_vocab_size"
   ]
  },
  {
   "cell_type": "code",
   "execution_count": 7,
   "metadata": {},
   "outputs": [],
   "source": [
    "model = Seq2seqModel(\n",
    "    name='test_model',\n",
    "    input_size=INPUT_SIZE,\n",
    "    hidden_size=HIDDEN_SIZE,\n",
    "    output_size=OUTPUT_SIZE,\n",
    "    max_length=MAX_LENGTH,\n",
    "    gpu_id=GPU_ID\n",
    ")"
   ]
  },
  {
   "cell_type": "markdown",
   "metadata": {},
   "source": [
    "# 3. Train Model"
   ]
  },
  {
   "cell_type": "code",
   "execution_count": 8,
   "metadata": {},
   "outputs": [],
   "source": [
    "trainer = Trainer(\n",
    "    model=model,\n",
    "    dataset=dataset,\n",
    "    gpu_id=GPU_ID,\n",
    "    print_interval=10,\n",
    "    plot_interval=10,\n",
    "    checkpoint_interval=10,\n",
    "    expr_path=EXPR_PATH\n",
    ")"
   ]
  },
  {
   "cell_type": "code",
   "execution_count": 9,
   "metadata": {
    "scrolled": true
   },
   "outputs": [],
   "source": [
    "#trainer.train(num_epoch=200, batch_size=512)"
   ]
  },
  {
   "cell_type": "markdown",
   "metadata": {},
   "source": [
    "# 4. Test Model"
   ]
  },
  {
   "cell_type": "code",
   "execution_count": 10,
   "metadata": {},
   "outputs": [],
   "source": [
    "def modelTest(num, model_epoch, beam_size):\n",
    "    model.load_state_dict(torch.load(EXPR_PATH+'test_model'+str(model_epoch)+'.model'))\n",
    "    \n",
    "    # sample 테스트\n",
    "    for i in range(num):\n",
    "        test_pair = random.choice(dataset.test_pairs)\n",
    "        print('> ', ' '.join(test_pair[0]))\n",
    "        print('< ', ' '.join(model.sampleResponce(test_pair[0], tagger, dataset.src_vocab, dataset.tgt_vocab, beam_size=beam_size)[1:-1]))\n",
    "        print()"
   ]
  },
  {
   "cell_type": "code",
   "execution_count": 11,
   "metadata": {
    "scrolled": true
   },
   "outputs": [
    {
     "name": "stdout",
     "output_type": "stream",
     "text": [
      ">  어떻 게 생긴 물건 이 죠\n",
      "<  여기 까지 오신 다고 합 니까\n",
      "\n",
      ">  예약한 좌석 을 확인 부탁드립니 다\n",
      "<  네 무슨 일 이 시 죠\n",
      "\n",
      ">  실례합 니다 물 한 잔 더 주실 수 있 을까요\n",
      "<  이 곳 에서 맥주 를 마실 수 있 나요\n",
      "\n",
      ">  제 가 주문한 음식 이 이 음식 이 맞 습니까\n",
      "<  무엇 을 도 와 드릴 까 요\n",
      "\n",
      ">  그 방 혹시 청소 가 안 되어 있 나요\n",
      "<  한 장 얻 을 수 있 을 거 예요\n",
      "\n",
      ">  택시 비는 얼마나 할 까 요\n",
      "<  찾아오는 데 어렵 지는 않으셨나 요\n",
      "\n",
      ">  음 라오스 를 가고 싶네 요 어떻 게 가야 하나요\n",
      "<  배 안 에서 영어 로 안내 방송 이 나옵 니까\n",
      "\n",
      ">  버스정류장 은 걸어 서 10 분 정도 거리 에 있 습니다\n",
      "<  버스정류장 은 걸어 서 10 분 정도 거리 에 있 습니다\n",
      "\n",
      ">  그렇 군요 그럼 그 걸 로 하겠 습니다\n",
      "<  그런 가요 그냥 이 걸 로 주세 요\n",
      "\n",
      ">  물론 이에요\n",
      "<  물론 이에요\n",
      "\n",
      ">  성인 2 장 이 요\n",
      "<  네 즐기는 편입 니 다\n",
      "\n",
      ">  네 맞아 요 카메라 로 보니 새롭 네요\n",
      "<  네 여기 가 디자인 이 아주 예쁘 네요\n",
      "\n",
      ">  그렇 겠 군요 알 겠 습니다 지불하겠 습니다\n",
      "<  20 분 정도 기다리 셔 야 합 니다\n",
      "\n",
      ">  시간 은 정확히 얼마나 걸리는 지는 모르 겠 네요\n",
      "<  주의하겠 습니다 여기 5 위안 더 드리 겠 습니다\n",
      "\n",
      ">  아니 요 고구마 그라탕 과 피자 만 포장 해 주세 요\n",
      "<  이 근처 에 왜 그러 신지 요 지금 같이 가 주 세요\n",
      "\n",
      ">  준비해야 할 것 은 있 나요\n",
      "<  아 무엇 이 필요하신 가요\n",
      "\n",
      ">  내일 오후 에 이용하고 싶 습니다\n",
      "<  이 음료 는 무엇 인가요\n",
      "\n",
      ">  속도 를 위반하셨 습니다 티켓 을 드려 야 겠 습니다\n",
      "<  제 가 확인해 봤 을 때 는 없었 는데 이상하네 요\n",
      "\n",
      ">  실내 에는 처음 들어오 자마자 보이는 화장실 뿐 이에요\n",
      "<  네 오늘 밤 예약 을 하고 싶 습니다\n",
      "\n",
      ">  당연하죠\n",
      "<  네\n",
      "\n"
     ]
    }
   ],
   "source": [
    "modelTest(num=20, model_epoch=150, beam_size=1)"
   ]
  },
  {
   "cell_type": "code",
   "execution_count": null,
   "metadata": {},
   "outputs": [],
   "source": []
  }
 ],
 "metadata": {
  "kernelspec": {
   "display_name": "Python 3",
   "language": "python",
   "name": "python3"
  },
  "language_info": {
   "codemirror_mode": {
    "name": "ipython",
    "version": 3
   },
   "file_extension": ".py",
   "mimetype": "text/x-python",
   "name": "python",
   "nbconvert_exporter": "python",
   "pygments_lexer": "ipython3",
   "version": "3.5.2"
  }
 },
 "nbformat": 4,
 "nbformat_minor": 2
}
