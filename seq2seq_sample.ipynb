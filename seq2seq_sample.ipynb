{
 "cells": [
  {
   "cell_type": "code",
   "execution_count": 1,
   "metadata": {},
   "outputs": [],
   "source": [
    "import os\n",
    "import pickle\n",
    "import time\n",
    "import random\n",
    "\n",
    "import torch\n",
    "\n",
    "import numpy as np\n",
    "\n",
    "from konlpy.tag import Twitter\n",
    "\n",
    "from tqdm import tqdm\n",
    "\n",
    "from seq2seq.dataset import Dataset\n",
    "from seq2seq.model import Seq2seqModel\n",
    "from seq2seq.trainer import Trainer, Evaluator"
   ]
  },
  {
   "cell_type": "code",
   "execution_count": 2,
   "metadata": {},
   "outputs": [
    {
     "data": {
      "text/plain": [
       "True"
      ]
     },
     "execution_count": 2,
     "metadata": {},
     "output_type": "execute_result"
    }
   ],
   "source": [
    "USE_CUDA = torch.cuda.is_available()\n",
    "GPU_ID = 2\n",
    "\n",
    "USE_CUDA"
   ]
  },
  {
   "cell_type": "code",
   "execution_count": 3,
   "metadata": {},
   "outputs": [],
   "source": [
    "torch.backends.cudnn.enabled=False"
   ]
  },
  {
   "cell_type": "code",
   "execution_count": null,
   "metadata": {},
   "outputs": [],
   "source": []
  },
  {
   "cell_type": "code",
   "execution_count": 4,
   "metadata": {},
   "outputs": [],
   "source": [
    "# 물음표 느낌표 온점 쉼표 처리하도록 추가"
   ]
  },
  {
   "cell_type": "markdown",
   "metadata": {},
   "source": [
    "# 1. Preprocess Dataset"
   ]
  },
  {
   "cell_type": "code",
   "execution_count": 5,
   "metadata": {},
   "outputs": [],
   "source": [
    "SRC_FILE_PATH = 'dataset/korean_dialog/hangul_src.txt'\n",
    "TGT_FILE_PATH = 'dataset/korean_dialog/hangul_tgt.txt'\n",
    "\n",
    "EXPR_PATH = 'experiment_special_char_smaller_batch/'\n",
    "\n",
    "DATASET_PKL = EXPR_PATH + 'dataset.pkl'\n",
    "MODEL_PKL = EXPR_PATH + 'test_model10.model'\n",
    "\n",
    "BATCH_SIZE = 256\n",
    "MAX_LENGTH = 30"
   ]
  },
  {
   "cell_type": "code",
   "execution_count": 6,
   "metadata": {},
   "outputs": [],
   "source": [
    "tagger = Twitter()"
   ]
  },
  {
   "cell_type": "code",
   "execution_count": 7,
   "metadata": {
    "scrolled": true
   },
   "outputs": [
    {
     "name": "stdout",
     "output_type": "stream",
     "text": [
      "Load dataset pickle\n",
      "Source vocab :  13745\n",
      "Target vocab :  13682\n"
     ]
    }
   ],
   "source": [
    "if not os.path.exists(EXPR_PATH):\n",
    "    os.makedirs(EXPR_PATH)\n",
    "\n",
    "if os.path.isfile(DATASET_PKL):\n",
    "    print('Load dataset pickle')\n",
    "    with open(DATASET_PKL, 'rb') as fp:\n",
    "        dataset = pickle.load(fp)\n",
    "    print('Source vocab : ', dataset.src_vocab.n_words)\n",
    "    print('Target vocab : ', dataset.tgt_vocab.n_words)\n",
    "else:\n",
    "#    start_time = time.time()\n",
    "    dataset = Dataset(\n",
    "        src_file_path=SRC_FILE_PATH,\n",
    "        tgt_file_path=TGT_FILE_PATH,\n",
    "        max_length=MAX_LENGTH\n",
    "    )\n",
    "    dataset.prepareData(tagger=tagger)\n",
    "#    print(\"--- %s seconds ---\" % (time.time() - start_time))\n",
    "    with open(DATASET_PKL, 'wb') as fp:\n",
    "        pickle.dump(dataset, fp)"
   ]
  },
  {
   "cell_type": "markdown",
   "metadata": {},
   "source": [
    "# 2. Define Model"
   ]
  },
  {
   "cell_type": "code",
   "execution_count": 8,
   "metadata": {},
   "outputs": [],
   "source": [
    "INPUT_SIZE = dataset.src_vocab_size\n",
    "HIDDEN_SIZE = 1024\n",
    "OUTPUT_SIZE = dataset.tgt_vocab_size"
   ]
  },
  {
   "cell_type": "code",
   "execution_count": 9,
   "metadata": {
    "scrolled": true
   },
   "outputs": [],
   "source": [
    "model = Seq2seqModel(\n",
    "    name='test_model',\n",
    "    input_size=INPUT_SIZE,\n",
    "    hidden_size=HIDDEN_SIZE,\n",
    "    output_size=OUTPUT_SIZE,\n",
    "    max_length=MAX_LENGTH,\n",
    "    bidirectional=True,\n",
    "    gpu_id=GPU_ID\n",
    ")"
   ]
  },
  {
   "cell_type": "markdown",
   "metadata": {},
   "source": [
    "# 3. Train Model"
   ]
  },
  {
   "cell_type": "code",
   "execution_count": 10,
   "metadata": {},
   "outputs": [],
   "source": [
    "trainer = Trainer(\n",
    "    model=model,\n",
    "    dataset=dataset,\n",
    "    gpu_id=GPU_ID,\n",
    "    print_interval=1,\n",
    "    plot_interval=5,\n",
    "    checkpoint_interval=5,\n",
    "    expr_path=EXPR_PATH\n",
    ")"
   ]
  },
  {
   "cell_type": "code",
   "execution_count": 11,
   "metadata": {
    "scrolled": true
   },
   "outputs": [],
   "source": [
    "#trainer.train(num_epoch=200, batch_size=BATCH_SIZE)"
   ]
  },
  {
   "cell_type": "markdown",
   "metadata": {},
   "source": [
    "# 4. Test Model"
   ]
  },
  {
   "cell_type": "code",
   "execution_count": 12,
   "metadata": {},
   "outputs": [],
   "source": [
    "evaluator = Evaluator(dataset, model)\n",
    "evaluator.loadModel(EXPR_PATH+'test_model100.model')"
   ]
  },
  {
   "cell_type": "code",
   "execution_count": 13,
   "metadata": {},
   "outputs": [
    {
     "name": "stdout",
     "output_type": "stream",
     "text": [
      ">  언제 여행 가시 는 건가 요\n",
      "<  <SOS> 감사하겠 . <EOS>\n",
      "\n"
     ]
    }
   ],
   "source": [
    "evaluator.generateResponse('언제 여행 가시는건가요', beam_size=-1)"
   ]
  },
  {
   "cell_type": "code",
   "execution_count": 14,
   "metadata": {},
   "outputs": [
    {
     "name": "stdout",
     "output_type": "stream",
     "text": [
      ">  언제 여행 가시 는 건가 요\n",
      "<  <SOS> 감사하겠 . <EOS>\n",
      "\n"
     ]
    }
   ],
   "source": [
    "evaluator.generateResponse('언제 여행 가시는건가요', beam_size=1)"
   ]
  },
  {
   "cell_type": "code",
   "execution_count": 17,
   "metadata": {
    "scrolled": true
   },
   "outputs": [
    {
     "name": "stdout",
     "output_type": "stream",
     "text": [
      ">  그럼 술 을 어디 에서 구입 할 수 있어 요 ?\n",
      "<  <SOS> 네 , , , , , , , , , , , , , , , , , , , , , , , , , , , , , ,\n",
      "\n",
      ">  네 . 140 cm 이상 부터 이용할 수 있 습니다 .\n",
      "<  <SOS> 가깝 시간 군요 군요 군요 군요 군요 군요 군요 군요 군요 군요 군요 군요 군요 군요 군요 군요 군요 군요 군요 군요 군요 군요 군요 군요 군요 군요 군요 군요 군요\n",
      "\n",
      ">  안녕하세 요 ?\n",
      "<  <SOS> 해보세 요 . <EOS>\n",
      "\n",
      ">  그렇 다면 고기 가 안 들어간 다른 먹거리 는 없 습니까 ?\n",
      "<  <SOS> 죄송합 다면 죄송합 다면 죄송합 다면 죄송합 죄송합 다면 죄송합 다면 죄송합 다면 죄송합 다면 죄송합 다면 죄송합 다면 죄송합 다면 죄송합 다면 죄송합 다면 죄송합 다면 죄송합 다면 죄송합 다면\n",
      "\n",
      ">  네 , 그럼 다음 칸 에 다녀올 테 니 찾아보세 요 .\n",
      "<  <SOS> . <EOS>\n",
      "\n",
      ">  저 도 곧 내리는 걸 요 . 괜찮 으니 어서 앉으 세요 .\n",
      "<  <SOS> 군요 요 군요 요 . 요 . 가진 요 . 연락처 알려 나면 요 요 . <EOS>\n",
      "\n",
      ">  여기 서 북쪽 으로 출발하는 버스 는 뭐 든 괜찮 아요 .\n",
      "<  <SOS> 생 생 처럼 낫 생 처럼 쯤 부탁드릴 않네 않네 않네 않네 않네 않네 않네 않네 않네 않네 않네 않네 않네 않네 않네 않네 않네 않네 않네 않네 않네 않네 않네\n",
      "\n",
      ">  아뇨 . 인텔리 젠 시아 라고 하던 데요 .\n",
      "<  <SOS> 커브 직원 이 직원 이 나중 캡 이 직원 이 취미 제품 이 캡 제품 이 제품 이 제품 이 제품 이 제품 이 제품 이 제품 이 제품 이 있\n",
      "\n",
      ">  그 전 까지 관람 할 수 있 나요 ? 지금 이 4 시 인데 .\n",
      "<  <SOS> 네 , 변경 들 일찍 일찍 일찍 일찍 일찍 일찍 일찍 일찍 일찍 일찍 일찍 일찍 일찍 일찍 일찍 일찍 일찍 일찍 일찍 일찍 일찍 일찍 일찍 일찍 일찍 일찍 일찍\n",
      "\n",
      ">  1 킬로그램 에 150 원 입니 다 .\n",
      "<  <SOS> 수수료 0 0 세트 0 수수료 와 수수료 는지요 ? <EOS>\n",
      "\n",
      ">  주차장 에서 천문대 까지 거리 가 먼 가요 ?\n",
      "<  <SOS> 아 아마 아마 아마 아마 아마 아마 아마 아마 아마 아마 아마 아마 아마 아마 아마 아마 아마 아마 아마 아마 아마 아마 아마 아마 아마 아마 아마 아마 아마 아마\n",
      "\n",
      ">  무료 이벤트 가 있고 유료 이벤트 가 있 습니다 .\n",
      "<  <SOS> 환전 저 주차장 인 장 장 장 장 장 장 장 장 장 장 장 장 장 주차장 장 장 주차장 장 장 주차장 장 장 주차장 장 장 주차장 장\n",
      "\n",
      ">  무슨 문제 있으 신 가요 ?\n",
      "<  <SOS> 지갑 지갑 지갑 지갑 지갑 지갑 지갑 들 지갑 지갑 지갑 지갑 지갑 지갑 지갑 지갑 지갑 지갑 지갑 지갑 지갑 지갑 지갑 지갑 지갑 지갑 지갑 지갑 지갑 지갑 지갑\n",
      "\n",
      ">  예 , 그렇 습니다 .\n",
      "<  <SOS> 오디오 들어가서 아십 하겠 쓰 부탁드립니 입니 다 . <EOS>\n",
      "\n",
      ">  괜찮 아요 . 그때 까지 해주세 요 .\n",
      "<  <SOS> 알 요 . <EOS>\n",
      "\n",
      ">  가격 은 어떻 게 되 나요 ?\n",
      "<  <SOS> 수표로 포장 안 됩 됩 됩 됩 됩 됩 됩 됩 됩 됩 됩 됩 됩 됩 됩 됩 됩 됩 니다 . 빨간색 됩 그것 맞 요 , 그것 그런데\n",
      "\n",
      ">  마땅히 대신할 만 한 실내 장소 가 없 습니다 .\n",
      "<  <SOS> 수영 얼른 끊어 헤매고 같이 끊어 헤매고 헤매고 헤매고 구 일주일 제공합 끊어 헤매고 제공합 주실 제공합 니까 ? <EOS>\n",
      "\n",
      ">  그럼 항공 편 과 배편 중 에 어떤 걸 로 하시 겠 어요 ?\n",
      "<  <SOS> 이 스테이크 1 발 발 발 발 발 발 발 발 발 발 발 발 발 발 발 발 발 발 발 발 발 발 발 발 발 발 발 발\n",
      "\n",
      ">  오늘 저녁 에 어떤 음식 을 드셨 나요 ?\n",
      "<  <SOS> 발 수표로 매운 매운 발 발 발 발 발 발 발 발 발 발 발 발 발 발 발 발 발 발 발 발 발 발 발 발 발 발 발\n",
      "\n",
      ">  네 . 파마 도 같이 하려 고 하는 데요 .\n",
      "<  <SOS> 이름 이름 안녕하세 이름 이름 이름 이름 이름 이름 이름 이름 이름 이름 이름 안녕하세 <EOS>\n",
      "\n"
     ]
    }
   ],
   "source": [
    "evaluator.evalModel(num=20, beam_size=5)"
   ]
  },
  {
   "cell_type": "code",
   "execution_count": null,
   "metadata": {},
   "outputs": [],
   "source": []
  }
 ],
 "metadata": {
  "kernelspec": {
   "display_name": "Python 3",
   "language": "python",
   "name": "python3"
  },
  "language_info": {
   "codemirror_mode": {
    "name": "ipython",
    "version": 3
   },
   "file_extension": ".py",
   "mimetype": "text/x-python",
   "name": "python",
   "nbconvert_exporter": "python",
   "pygments_lexer": "ipython3",
   "version": "3.5.2"
  }
 },
 "nbformat": 4,
 "nbformat_minor": 2
}
