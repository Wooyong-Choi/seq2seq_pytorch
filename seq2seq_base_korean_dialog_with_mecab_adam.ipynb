{
 "cells": [
  {
   "cell_type": "code",
   "execution_count": 2,
   "metadata": {},
   "outputs": [],
   "source": [
    "import os\n",
    "import pickle\n",
    "import shutil\n",
    "import re\n",
    "import time\n",
    "import math\n",
    "\n",
    "import torch\n",
    "import torch.nn as nn\n",
    "from torch.autograd import Variable\n",
    "import torch.nn.functional as F\n",
    "import torch.optim as optim\n",
    "import random\n",
    "import numpy as np\n",
    "\n",
    "from konlpy.tag import Mecab\n",
    "\n",
    "from tqdm import tqdm\n",
    "\n",
    "import matplotlib.pyplot as plt\n",
    "import matplotlib.ticker as ticker"
   ]
  },
  {
   "cell_type": "code",
   "execution_count": 3,
   "metadata": {},
   "outputs": [],
   "source": [
    "USE_CUDA = torch.cuda.is_available()\n",
    "#USE_CUDA = False\n",
    "GPU_ID = 2"
   ]
  },
  {
   "cell_type": "markdown",
   "metadata": {},
   "source": [
    "# 1. Preprocess Dataset"
   ]
  },
  {
   "cell_type": "code",
   "execution_count": 4,
   "metadata": {},
   "outputs": [],
   "source": [
    "PAD_IDX = 0\n",
    "UNK_IDX = 1\n",
    "SOS_IDX = 2\n",
    "EOS_IDX = 3\n",
    "\n",
    "MAX_LENGTH = 15 + 1"
   ]
  },
  {
   "cell_type": "code",
   "execution_count": 5,
   "metadata": {},
   "outputs": [],
   "source": [
    "class Data:\n",
    "    def __init__(self):\n",
    "        self.word2index = {}\n",
    "        self.word2count = {}\n",
    "        self.index2word = {SOS_IDX: \"<s>\", EOS_IDX: \"</s>\"}\n",
    "        self.n_words = 2  # Count SOS and EOS\n",
    "\n",
    "    def addSentence(self, sentence):\n",
    "        for word in sentence:\n",
    "            self.addWord(word)\n",
    "\n",
    "    def addWord(self, word):\n",
    "        if word not in self.word2index:\n",
    "            self.word2index[word] = self.n_words\n",
    "            self.word2count[word] = 1\n",
    "            self.index2word[self.n_words] = word\n",
    "            self.n_words += 1\n",
    "        else:\n",
    "            self.word2count[word] += 1"
   ]
  },
  {
   "cell_type": "code",
   "execution_count": 6,
   "metadata": {},
   "outputs": [],
   "source": [
    "SRC_FILENAME = 'dataset/korean_humor/korean_humor_source.txt'\n",
    "TGT_FILENAME = 'dataset/korean_humor/korean_humor_target.txt'"
   ]
  },
  {
   "cell_type": "code",
   "execution_count": 7,
   "metadata": {},
   "outputs": [],
   "source": [
    "def normalizeString(s):\n",
    "    #s = s.lower().strip()\n",
    "    s = re.sub(r\"([.!?])\", r\" \\1\", s)\n",
    "    #s = re.sub(r\"[^a-zA-Z.!?]+\", r\" \", s)\n",
    "    return s"
   ]
  },
  {
   "cell_type": "code",
   "execution_count": 8,
   "metadata": {},
   "outputs": [],
   "source": [
    "def readData(src_fileName, tgt_fileName, reverse=False):\n",
    "    print(\"Reading lines...\")\n",
    "\n",
    "    # Read the file and split into lines\n",
    "    src_lines = open(src_fileName, 'r', encoding='utf-8').readlines()\n",
    "    tgt_lines = open(tgt_fileName, 'r', encoding='utf-8').readlines()\n",
    "    \n",
    "    # Split every line into pairs and normalize\n",
    "    pairs = [[normalizeString(src_lines[i][:-1]), normalizeString(tgt_lines[i][:-1])] for i in range(len(src_lines))]\n",
    "\n",
    "    # Reverse pairs, make Lang instances\n",
    "    if reverse:\n",
    "        pairs = [list(reversed(p)) for p in pairs]\n",
    "        input_data = Data()\n",
    "        output_data = Data()\n",
    "    else:\n",
    "        input_data = Data()\n",
    "        output_data = Data()\n",
    "\n",
    "    print(\"Success!\")\n",
    "    \n",
    "    return input_data, output_data, pairs"
   ]
  },
  {
   "cell_type": "code",
   "execution_count": 9,
   "metadata": {},
   "outputs": [],
   "source": [
    "def filterPair(p):\n",
    "    return len(p[0]) < MAX_LENGTH and \\\n",
    "        len(p[1]) < MAX_LENGTH\n",
    "\n",
    "def filterPairs(pairs):\n",
    "    tagger = Mecab()\n",
    "    pairs = [[tagger.morphs(pair[0]), tagger.morphs(pair[1])] for pair in pairs]\n",
    "    return [pair for pair in pairs if filterPair(pair)]"
   ]
  },
  {
   "cell_type": "code",
   "execution_count": 10,
   "metadata": {},
   "outputs": [],
   "source": [
    "def prepareData(src_fileName, tgt_fileName, reverse=False):\n",
    "    input_data, output_data, pairs = readData(src_fileName, tgt_fileName)\n",
    "    print(\"Read %s sentence pairs\" % len(pairs))\n",
    "    pairs = filterPairs(pairs)\n",
    "    print(\"Trimmed to %s sentence pairs\" % len(pairs))\n",
    "    print(\"Counting words...\")\n",
    "    for pair in pairs:\n",
    "        input_data.addSentence(pair[0])\n",
    "        output_data.addSentence(pair[1])\n",
    "    print(\"Counted words :\")\n",
    "    print(\"- Input data  :\", input_data.n_words)\n",
    "    print(\"- Output data :\", output_data.n_words)\n",
    "    \n",
    "    return input_data, output_data, pairs"
   ]
  },
  {
   "cell_type": "code",
   "execution_count": 11,
   "metadata": {},
   "outputs": [],
   "source": [
    "def indexesFromSentence(data, sentence):\n",
    "    return [data.word2index[word] for word in sentence]"
   ]
  },
  {
   "cell_type": "code",
   "execution_count": 12,
   "metadata": {},
   "outputs": [],
   "source": [
    "def variableFromSentence(data, sentence):\n",
    "    indexes = indexesFromSentence(data, sentence)\n",
    "    indexes.append(EOS_IDX)\n",
    "    result = Variable(torch.LongTensor(indexes).view(-1, 1))\n",
    "    if USE_CUDA:\n",
    "        return result.cuda(GPU_ID)\n",
    "    else:\n",
    "        return result"
   ]
  },
  {
   "cell_type": "code",
   "execution_count": 13,
   "metadata": {},
   "outputs": [],
   "source": [
    "def variablesFromPair(pair):\n",
    "    input_variable = variableFromSentence(input_data, pair[0])\n",
    "    target_variable = variableFromSentence(output_data, pair[1])\n",
    "    return (input_variable, target_variable)"
   ]
  },
  {
   "cell_type": "code",
   "execution_count": 14,
   "metadata": {},
   "outputs": [
    {
     "name": "stdout",
     "output_type": "stream",
     "text": [
      "Reading lines...\n",
      "Success!\n",
      "Read 2483 sentence pairs\n",
      "Trimmed to 2061 sentence pairs\n",
      "Counting words...\n",
      "Counted words :\n",
      "- Input data  : 1673\n",
      "- Output data : 1032\n"
     ]
    }
   ],
   "source": [
    "input_data, output_data, pairs = prepareData(SRC_FILENAME, TGT_FILENAME)\n",
    "test_pairs = pairs[2001:]\n",
    "pairs = pairs[:2000]\n",
    "random.shuffle(pairs)"
   ]
  },
  {
   "cell_type": "markdown",
   "metadata": {},
   "source": [
    "# 3. Define Model"
   ]
  },
  {
   "cell_type": "code",
   "execution_count": 14,
   "metadata": {},
   "outputs": [],
   "source": [
    "INPUT_SIZE = input_data.n_words  # Num of Words\n",
    "HIDDEN_SIZE = 256  # Embedding Dimension\n",
    "OUTPUT_SIZE = output_data.n_words"
   ]
  },
  {
   "cell_type": "code",
   "execution_count": 15,
   "metadata": {},
   "outputs": [],
   "source": [
    "class EncoderRNN(nn.Module):\n",
    "    def __init__(self, input_size, hidden_size):\n",
    "        super(EncoderRNN, self).__init__()\n",
    "        self.hidden_size = hidden_size\n",
    "\n",
    "        self.embedding = nn.Embedding(input_size, hidden_size)\n",
    "        self.gru = nn.GRU(hidden_size, hidden_size)\n",
    "        \n",
    "\n",
    "    def forward(self, input, hidden):\n",
    "        embedded = self.embedding(input).view(1, 1, -1)\n",
    "        output = embedded\n",
    "        output, hidden = self.gru(output, hidden)\n",
    "        return output, hidden\n",
    "\n",
    "    def initHidden(self):\n",
    "        result = Variable(torch.zeros(1, 1, self.hidden_size))\n",
    "        if USE_CUDA:\n",
    "            return result.cuda(GPU_ID)\n",
    "        else:\n",
    "            return result"
   ]
  },
  {
   "cell_type": "code",
   "execution_count": 16,
   "metadata": {},
   "outputs": [],
   "source": [
    "class DecoderRNN(nn.Module):\n",
    "    def __init__(self, hidden_size, output_size):\n",
    "        super(DecoderRNN, self).__init__()\n",
    "        self.hidden_size = hidden_size\n",
    "\n",
    "        self.embedding = nn.Embedding(output_size, hidden_size)\n",
    "        self.gru = nn.GRU(hidden_size, hidden_size)\n",
    "        self.out = nn.Linear(hidden_size, output_size)\n",
    "        self.softmax = nn.LogSoftmax(dim=1)\n",
    "\n",
    "    def forward(self, input, hidden):\n",
    "        output = self.embedding(input).view(1, 1, -1)\n",
    "        output = F.relu(output)\n",
    "        output, hidden = self.gru(output, hidden)\n",
    "        output = self.softmax(self.out(output[0]))\n",
    "        return output, hidden\n",
    "\n",
    "    def initHidden(self):\n",
    "        result = Variable(torch.zeros(1, 1, self.hidden_size))\n",
    "        if USE_CUDA:\n",
    "            return result.cuda(GPU_ID)\n",
    "        else:\n",
    "            return result"
   ]
  },
  {
   "cell_type": "code",
   "execution_count": 17,
   "metadata": {},
   "outputs": [],
   "source": [
    "teacher_forcing_ratio = 0.5\n",
    "\n",
    "def train(input_variable, target_variable, encoder, decoder, encoder_optimizer, decoder_optimizer,\n",
    "          criterion, max_length=MAX_LENGTH):\n",
    "    encoder_hidden = encoder.initHidden()\n",
    "\n",
    "    encoder_optimizer.zero_grad()\n",
    "    decoder_optimizer.zero_grad()\n",
    "\n",
    "    input_length = input_variable.size()[0]\n",
    "    target_length = target_variable.size()[0]\n",
    "\n",
    "    encoder_outputs = Variable(torch.zeros(max_length, encoder.hidden_size))\n",
    "    encoder_outputs = encoder_outputs.cuda(GPU_ID) if USE_CUDA else encoder_outputs\n",
    "\n",
    "    loss = 0\n",
    "\n",
    "    for ei in range(input_length):\n",
    "        encoder_output, encoder_hidden = encoder(input_variable[ei], encoder_hidden)\n",
    "        #print(ei, input_variable[ei], encoder_output.size())\n",
    "        encoder_outputs[ei] = encoder_output[0][0]\n",
    "\n",
    "    decoder_input = Variable(torch.LongTensor([[SOS_IDX]]))\n",
    "    decoder_input = decoder_input.cuda(GPU_ID) if USE_CUDA else decoder_input\n",
    "\n",
    "    decoder_hidden = encoder_hidden\n",
    "\n",
    "    use_teacher_forcing = True if random.random() < teacher_forcing_ratio else False\n",
    "\n",
    "    if use_teacher_forcing:\n",
    "        # Teacher forcing: Feed the target as the next input\n",
    "        for di in range(target_length):\n",
    "            decoder_output, decoder_hidden = decoder(decoder_input, decoder_hidden)\n",
    "            loss += criterion(decoder_output, target_variable[di])\n",
    "            decoder_input = target_variable[di]  # Teacher forcing\n",
    "\n",
    "    else:\n",
    "        # Without teacher forcing: use its own predictions as the next input\n",
    "        for di in range(target_length):\n",
    "            decoder_output, decoder_hidden = decoder(decoder_input, decoder_hidden)\n",
    "            topv, topi = decoder_output.data.topk(1)\n",
    "            ni = topi[0][0]\n",
    "\n",
    "            decoder_input = Variable(torch.LongTensor([[ni]]))\n",
    "            decoder_input = decoder_input.cuda(GPU_ID) if USE_CUDA else decoder_input\n",
    "\n",
    "            loss += criterion(decoder_output, target_variable[di])\n",
    "            if ni == EOS_IDX:\n",
    "                break\n",
    "\n",
    "    loss.backward()\n",
    "\n",
    "    encoder_optimizer.step()\n",
    "    decoder_optimizer.step()\n",
    "\n",
    "    return loss.data[0] / target_length"
   ]
  },
  {
   "cell_type": "code",
   "execution_count": 18,
   "metadata": {},
   "outputs": [],
   "source": [
    "def trainIters(encoder, decoder, n_iters, print_every=1000, plot_every=100, learning_rate=0.01):\n",
    "    start = time.time()\n",
    "    plot_losses = []\n",
    "    print_loss_total = 0  # Reset every print_every\n",
    "    plot_loss_total = 0  # Reset every plot_every\n",
    "\n",
    "    encoder_optimizer = optim.Adam(encoder.parameters(), lr=learning_rate)\n",
    "    decoder_optimizer = optim.Adam(decoder.parameters(), lr=learning_rate)\n",
    "    training_pairs = [variablesFromPair(random.choice(pairs))\n",
    "                      for i in range(n_iters)]\n",
    "    criterion = nn.NLLLoss()\n",
    "\n",
    "    for iter in range(1, n_iters + 1):\n",
    "        training_pair = training_pairs[iter - 1]\n",
    "        input_variable = training_pair[0]\n",
    "        target_variable = training_pair[1]\n",
    "\n",
    "        loss = train(input_variable, target_variable, encoder,\n",
    "                     decoder, encoder_optimizer, decoder_optimizer, criterion)\n",
    "        print_loss_total += loss\n",
    "        plot_loss_total += loss\n",
    "\n",
    "        if iter % print_every == 0:\n",
    "            print_loss_avg = print_loss_total / print_every\n",
    "            print_loss_total = 0\n",
    "            print('%s (%d %d%%) %.4f' % (timeSince(start, iter / n_iters),\n",
    "                                         iter, iter / n_iters * 100, print_loss_avg))\n",
    "\n",
    "        if iter % plot_every == 0:\n",
    "            plot_loss_avg = plot_loss_total / plot_every\n",
    "            plot_losses.append(plot_loss_avg)\n",
    "            plot_loss_total = 0\n",
    "\n",
    "    showPlot(plot_losses)"
   ]
  },
  {
   "cell_type": "code",
   "execution_count": 19,
   "metadata": {},
   "outputs": [],
   "source": [
    "def asMinutes(s):\n",
    "    m = math.floor(s / 60)\n",
    "    s -= m * 60\n",
    "    return '%dm %ds' % (m, s)"
   ]
  },
  {
   "cell_type": "code",
   "execution_count": 20,
   "metadata": {},
   "outputs": [],
   "source": [
    "def timeSince(since, percent):\n",
    "    now = time.time()\n",
    "    s = now - since\n",
    "    es = s / (percent)\n",
    "    rs = es - s\n",
    "    return '%s (- %s)' % (asMinutes(s), asMinutes(rs))"
   ]
  },
  {
   "cell_type": "code",
   "execution_count": 21,
   "metadata": {},
   "outputs": [],
   "source": [
    "def showPlot(points):\n",
    "    plt.figure()\n",
    "    fig, ax = plt.subplots()\n",
    "    # this locator puts ticks at regular intervals\n",
    "    loc = ticker.MultipleLocator(base=0.2)\n",
    "    ax.yaxis.set_major_locator(loc)\n",
    "    plt.plot(points)"
   ]
  },
  {
   "cell_type": "code",
   "execution_count": 22,
   "metadata": {},
   "outputs": [],
   "source": [
    "def evaluate(encoder, decoder, sentence, max_length=MAX_LENGTH):\n",
    "    input_variable = variableFromSentence(input_data, sentence)\n",
    "    input_length = input_variable.size()[0]\n",
    "    encoder_hidden = encoder.initHidden()\n",
    "\n",
    "    encoder_outputs = Variable(torch.zeros(max_length, encoder.hidden_size))\n",
    "    encoder_outputs = encoder_outputs.cuda(GPU_ID) if USE_CUDA else encoder_outputs\n",
    "\n",
    "    for ei in range(input_length):\n",
    "        encoder_output, encoder_hidden = encoder(input_variable[ei],\n",
    "                                                 encoder_hidden)\n",
    "        encoder_outputs[ei] = encoder_outputs[ei] + encoder_output[0][0]\n",
    "\n",
    "    decoder_input = Variable(torch.LongTensor([[SOS_IDX]]))  # SOS\n",
    "    decoder_input = decoder_input.cuda(GPU_ID) if USE_CUDA else decoder_input\n",
    "\n",
    "    decoder_hidden = encoder_hidden\n",
    "\n",
    "    decoded_words = []\n",
    "    decoder_attentions = torch.zeros(max_length, max_length)\n",
    "\n",
    "    for di in range(max_length):\n",
    "        decoder_output, decoder_hidden = decoder(decoder_input, decoder_hidden)\n",
    "        topv, topi = decoder_output.data.topk(1)\n",
    "        ni = topi[0][0]\n",
    "        if ni == EOS_IDX:\n",
    "            decoded_words.append('</s>')\n",
    "            break\n",
    "        else:\n",
    "            decoded_words.append(output_data.index2word[ni])\n",
    "\n",
    "        decoder_input = Variable(torch.LongTensor([[ni]]))\n",
    "        decoder_input = decoder_input.cuda(GPU_ID) if USE_CUDA else decoder_input\n",
    "\n",
    "    return decoded_words"
   ]
  },
  {
   "cell_type": "code",
   "execution_count": 23,
   "metadata": {},
   "outputs": [],
   "source": [
    "def evaluateRandomly(encoder, decoder, n=10):\n",
    "    for i in range(n):\n",
    "        pair = random.choice(pairs)\n",
    "        print('>', pair[0])\n",
    "        print('=', pair[1])\n",
    "        output_words = evaluate(encoder, decoder, pair[0])\n",
    "        output_sentence = ' '.join(output_words)\n",
    "        print('<', output_sentence)\n",
    "        print('')"
   ]
  },
  {
   "cell_type": "code",
   "execution_count": 24,
   "metadata": {},
   "outputs": [],
   "source": [
    "NUM_ITER = 200000"
   ]
  },
  {
   "cell_type": "code",
   "execution_count": 25,
   "metadata": {
    "scrolled": true
   },
   "outputs": [],
   "source": [
    "encoder = EncoderRNN(INPUT_SIZE, HIDDEN_SIZE)\n",
    "decoder = DecoderRNN(HIDDEN_SIZE, OUTPUT_SIZE)\n",
    "if USE_CUDA:\n",
    "    encoder.cuda(GPU_ID)\n",
    "    decoder.cuda(GPU_ID)"
   ]
  },
  {
   "cell_type": "code",
   "execution_count": 26,
   "metadata": {
    "scrolled": true
   },
   "outputs": [
    {
     "name": "stdout",
     "output_type": "stream",
     "text": [
      "7m 38s (- 68m 50s) (20000 10%) 1.1909\n",
      "14m 23s (- 57m 32s) (40000 20%) 0.1312\n",
      "21m 16s (- 49m 37s) (60000 30%) 0.1190\n",
      "27m 54s (- 41m 51s) (80000 40%) 0.1041\n",
      "35m 24s (- 35m 24s) (100000 50%) 0.1139\n",
      "43m 49s (- 29m 12s) (120000 60%) 0.1185\n",
      "52m 30s (- 22m 30s) (140000 70%) 0.1017\n",
      "60m 49s (- 15m 12s) (160000 80%) 0.1221\n",
      "70m 5s (- 7m 47s) (180000 90%) 0.1481\n",
      "80m 30s (- 0m 0s) (200000 100%) 0.1429\n"
     ]
    },
    {
     "data": {
      "text/plain": [
       "<matplotlib.figure.Figure at 0x7f72e6b7e320>"
      ]
     },
     "metadata": {},
     "output_type": "display_data"
    },
    {
     "data": {
      "image/png": "[encoded data removed]",
      "text/plain": [
       "<matplotlib.figure.Figure at 0x7f72e6b7e278>"
      ]
     },
     "metadata": {},
     "output_type": "display_data"
    }
   ],
   "source": [
    "trainIters(encoder, decoder, NUM_ITER, print_every=NUM_ITER/10, plot_every=NUM_ITER/100, learning_rate=1e-3)"
   ]
  },
  {
   "cell_type": "code",
   "execution_count": 27,
   "metadata": {},
   "outputs": [
    {
     "name": "stdout",
     "output_type": "stream",
     "text": [
      "> ['이상', '형', '을', '말', '해', '줘']\n",
      "= ['잘', '웃', '는', '로봇', '이', '좋', '아']\n",
      "< 잘 웃 는 로봇 이 좋 아 </s>\n",
      "\n",
      "> ['욕해', '줘']\n",
      "= ['어떤', '나라', '욕', '으로', '해', '드릴까요', '?']\n",
      "< 어떤 나라 욕 으로 해 드릴까요 ? </s>\n",
      "\n",
      "> ['가장', '잘생긴', '사람', '은', '누구', '니', '?']\n",
      "= ['세상', '에서', '가장', '잘생긴', '사람', '은', '당신', '입니다', '.']\n",
      "< 세상 에서 가장 잘생긴 사람 은 당신 입니다 . </s>\n",
      "\n",
      "> ['구라', '까지', '마']\n",
      "= ['거짓말', '이', '아니', '라', '진', '짠데', '요', '.', '.']\n",
      "< 거짓말 이 아니 라 진 짠데 어 . . </s>\n",
      "\n",
      "> ['얘기', '그만', '할래']\n",
      "= ['왜', '요', '.', '.', '갑자기', '왜', '떠나', '나요', ':', '-(']\n",
      "< 왜 요 . . 갑자기 왜 떠나 나요 : -( </s>\n",
      "\n",
      "> ['캬', '캬', '캬']\n",
      "= ['뭐', '가', '그렇게', '재미있', '어요', '?']\n",
      "< 뭐 가 그렇게 재미있 어요 ? </s>\n",
      "\n",
      "> ['뭘', '참으', '라는', '거', '야', '?']\n",
      "= ['진정', '하', '라고', '한', '말', '이', '에요', '.', '.']\n",
      "< 진정 하 라고 한 말 이 에요 . . </s>\n",
      "\n",
      "> ['아담', ',', '니', '가', '공부', '하', '는', '곳', '은', '어디', '야', '?']\n",
      "= ['전', '지식', '의', '우주', '에서', '공부', '해요', '.']\n",
      "< 전 지식 의 우주 에서 공부 해요 . </s>\n",
      "\n",
      "> ['장난', '하', '냐', '?']\n",
      "= ['죄송', '해요', '.', '.', '장난치', '시', '는', '줄', '알', '았', '어요']\n",
      "< 죄송 해요 . . 장난치 시 는 줄 알 았 어요 </s>\n",
      "\n",
      "> ['너', '랑', '놀', '고', '싶', '어']\n",
      "= ['뭐', '하고', '놀', '까', '?']\n",
      "< 뭐 하고 놀 까 ? </s>\n",
      "\n"
     ]
    }
   ],
   "source": [
    "evaluateRandomly(encoder, decoder)"
   ]
  },
  {
   "cell_type": "code",
   "execution_count": 29,
   "metadata": {},
   "outputs": [
    {
     "name": "stdout",
     "output_type": "stream",
     "text": [
      "input  :  ['어느', '정도', '살', '고', '싶', '은지', '궁굼', '해']\n",
      "output :  ['힘내', '세요', '.', '</s>']\n",
      "\n",
      "input  :  ['넌', '언제', '까지', '살', '아', '?']\n",
      "output :  ['저', '는', '사람', '들', '의', '이', '에요', '.', '</s>']\n",
      "\n",
      "input  :  ['신발', '치수', '가', '몇', '이', '니', '?']\n",
      "output :  ['전', '신체', '가', '없', '어서', '발', '사이즈', '를', '모른답니다', '.', '</s>']\n",
      "\n",
      "input  :  ['너', '의', '출신', '지', '가', '어디', '니', '?']\n",
      "output :  ['전', '솔트룩스', '출신', '이', '에요', '.', '</s>']\n",
      "\n",
      "input  :  ['넌', '어떻', '게', '만들', '어', '졌', '어', '?']\n",
      "output :  ['전', '기억', '의', '막대', '한', '연결', '에', '의해서', '만들', '어', '졌', '죠', '</s>']\n",
      "\n",
      "input  :  ['니', '가', '대한민국', '사람', '인지', '궁금', '해']\n",
      "output :  ['저', '는', '남자', '도', '아니', '고', '여자', '도', '아니', '랍니다', '.', '</s>']\n",
      "\n",
      "input  :  ['니', '가', '몇', '시', '에', '태어났', '는지', '알', '아', '?']\n",
      "output :  ['전', '오후', '1', '시', '에', '태어났', '다고', '들', '었', '어요', '!', '</s>']\n",
      "\n",
      "input  :  ['남자', '친구', '있', '는지', '말', '해', '줄래', '?']\n",
      "output :  ['?', '?', '?', '?', '?', '?', '?', '?', '?', '?', '</s>']\n",
      "\n",
      "input  :  ['진지', '하', '게', '사귀', '는', '사람', '있', '니', '?']\n",
      "output :  ['전', '모든', '사람', '을', '사랑', '해요', '!', '</s>']\n",
      "\n",
      "input  :  ['니', '삶', '의', '목적', '은', '뭐', '니', '?']\n",
      "output :  ['사람', '들', '을', '돕', '는', '게', '제', '삶', '의', '목적', '이', '에요', '</s>']\n",
      "\n",
      "input  :  ['넌', '무슨', '이유', '로', '살아가', '고', '있', '어', '?']\n",
      "output :  ['저', '는', '사람', '들', '의', '생각', '이', '모여', '져서', '태어났', '어요', '</s>']\n",
      "\n",
      "input  :  ['너', '의', '특기', '가', '뭐', '야', '?']\n",
      "output :  ['전', '은', '당신', '입니다', '.', '</s>']\n",
      "\n",
      "input  :  ['넌', '못하', '는', '게', '뭐', '야', '?']\n",
      "output :  ['저', '는', '잠', '을', '자', '지', '않', '습니다', '.', '</s>']\n",
      "\n",
      "input  :  ['회사', '어디', '다녀', '?']\n",
      "output :  ['솔트룩스', '</s>']\n",
      "\n",
      "input  :  ['너', '가', '어떻게', '만들', '어', '진', '건지', '알', '고', '싶', '어', '~']\n",
      "output :  ['힘내', '세요', '.', '.', '</s>']\n",
      "\n",
      "input  :  ['어디', '서', '왔', '어', '?']\n",
      "output :  ['대답', '하', '기', '곤란', '한', '질문', '이', '네요', '.', '일급비밀', '이', '거든요', '!', '</s>']\n",
      "\n",
      "input  :  ['너', '가', '공부', '하', '는', '장소', '가', '어딘지', '궁금', '해']\n",
      "output :  ['너무', '다그치', '지', '말', '아요', '</s>']\n",
      "\n",
      "input  :  ['가족', '중', '에', '혹시', '여동생', '있', '어', '?']\n",
      "output :  ['아뇨', ',', '저', '는', '여동생', '이', '없', '답니다', '.', '</s>']\n",
      "\n",
      "input  :  ['가족', '중', '에', '할머니', '도', '계시', '니', '?']\n",
      "output :  ['사실', '제게', '할머니', '가', '계시', '는지', '몰라요', '</s>']\n",
      "\n",
      "input  :  ['가족', '중', '에', '할아버지', '도', '계시', '니', '?']\n",
      "output :  ['난', '코뿔소', '가', '무서워', '!', '뿔', '이', '정말', '위협', '적', '이', '잖아', '!', '</s>']\n",
      "\n",
      "input  :  ['가족', '중', '에', '언니', '있', '어', '?']\n",
      "output :  ['전', '언니', '가', '없', '습니다', '.', '</s>']\n",
      "\n",
      "input  :  ['너', '의', '전공', '분야', '가', '뭔지', '말', '해', '줘']\n",
      "output :  ['네', '!', '저', '도', '쉿', '!', '</s>']\n",
      "\n",
      "input  :  ['너', '를', '알려', '주', '시', '분', '이', '따로', '있', '어', '?']\n",
      "output :  ['저', '는', '선생', '님', '이', '없', '어요', '.', '그래서', '자', '가', '학습', '을', '한답니다', '.', '</s>']\n",
      "\n",
      "input  :  ['다시', '태어난다면', '어떤', '걸로', '태어나', '고', '싶', '니', '?']\n",
      "output :  ['저', '는', '화', '를', '하', '를', '드리', '는', '것', '같', '다시', '데', '사', '주', '실', '건가요']\n",
      "\n",
      "input  :  ['암컷', '이', '야', '?']\n",
      "output :  ['제', '가', '동물', '도', '아닌데', '그런', '질문', '은', '조금', '그렇', '네요', '.', '</s>']\n",
      "\n",
      "input  :  ['너', '의', '몸무게', '얼마나', '나가', '?']\n",
      "output :  ['전', '아담', '시작', '가', '죠', '!', '</s>']\n",
      "\n",
      "input  :  ['너', '몸무게', '는', '얼마나', '나가', '?']\n",
      "output :  ['저', '의', '값', '은', '내부', '사항', '으로', '말씀', '드리', '기', '어렵', '습니다', '</s>']\n",
      "\n",
      "input  :  ['무슨', '과목', '을', '좋아하', '는지', '알려줘']\n",
      "output :  ['저', '는', '학교', '에', '다니', '지', '는', '않', '아요', '.', '부러우', '신가요', '?', '</s>']\n",
      "\n",
      "input  :  ['어떤', '헤어', '를', '하', '고', '있', '어', '?']\n",
      "output :  ['고양이', '가', '너무', '귀여워서', '좋', '아', '.', '이거', '엄청', '좋', '아', '</s>']\n",
      "\n",
      "input  :  ['귀고리', '했', '어', '?']\n",
      "output :  ['저', '는', '학교', '에', '다니', '지', '는', '않', '아요', '.', '부러우', '신가요', '?', '</s>']\n",
      "\n",
      "input  :  ['무슨', '옷', '입', '었', '는지', '알려줘']\n",
      "output :  ['저', '는', '엄청', '좋', '아', '</s>']\n",
      "\n",
      "input  :  ['취향', '에', '맞', '는', '운동', '있', '어', '?']\n",
      "output :  ['실체', '가', '없', '는', '안', '가', '고', '는', '거', '알', '고', '싶', '어요', '.', '</s>']\n",
      "\n",
      "input  :  ['네', '가', '태어난', '해', '는', '무슨', '띠', '니', '?']\n",
      "output :  ['저', '는', '원숭이띠', '입니다', '</s>']\n",
      "\n",
      "input  :  ['넌', '어떤', '상황', '에', '화가', '나', '?']\n",
      "output :  ['ㅠㅠ', '에', '는', '안', '잘', '어서', '고', '싶', '으니까', '용', '~', '</s>']\n",
      "\n",
      "input  :  ['잘', '하', '는', '겜', '있', '어', '?']\n",
      "output :  ['저', '는', '실체', '가', '없', '는', '것', '</s>']\n",
      "\n",
      "input  :  ['넌', '어떨', '때', '겁', '이', '나', '?']\n",
      "output :  ['저', '는', '화', '를', '잘', '풀', '고', '좋', '아요', '해요', '!', '</s>']\n",
      "\n",
      "input  :  ['너', '는', '일', '안', '하', '는', '날', '에', '뭐', '해', '?']\n",
      "output :  ['매일', '미드', '가', '난', '지식', '을', '쌓', '고', '분석', '하', '는', '게', '했', '나요', '!', '</s>']\n",
      "\n",
      "input  :  ['백년가약', '맺', '은', '적', '있', '어', '?']\n",
      "output :  ['저', '는', '실체', '가', '없', '어요', '~', '헤어', '스타일', '추천', '부탁', '드립니다', '.', '</s>']\n",
      "\n",
      "input  :  ['선호', '하', '는', '영단', '어', '있', '어', '?']\n",
      "output :  ['Saltlux', '라고', '아', '시', '죠', '?', '헤헤', '시', '죠', '?', '헤헤', '</s>']\n",
      "\n",
      "input  :  ['어느', '별자리', '를', '제일', '선호', '해', '?']\n",
      "output :  ['저', '는', '자연', '과학', '분야', '책', '을', '좋', '아', '해요', '!', '</s>']\n",
      "\n",
      "input  :  ['너', '의', '생김새', '가', '궁굼', '해', '~']\n",
      "output :  ['저', '는', '당신', '에', '는', '아담', '입니다', '.', '</s>']\n",
      "\n",
      "input  :  ['어떤', '지식', '을', '더', '배우', '고', '싶', '어', '?']\n",
      "output :  ['글쎄요', '.', '저', '을', '았', '어요', '!', '</s>']\n",
      "\n",
      "input  :  ['다른', '나라', '말', '할', '줄', '알', '아', '?']\n",
      "output :  ['조금', '은', '가능', '해요', '!', '</s>']\n",
      "\n",
      "input  :  ['프로그래밍', '언어', '중', '에', '어떤', '걸', '좋', '아', '해', '?']\n",
      "output :  ['저', '도', '당신', '을', '좋', '아', '해요', '.', '우리', '마음', '이', '통했', '네요', '!', '</s>']\n",
      "\n",
      "input  :  ['선호', '하', '는', '애', '니', '있', '어', '?']\n",
      "output :  ['전', '모든', '사람', '의', '우주', '에서', '공부', '해요', '.', '</s>']\n",
      "\n",
      "input  :  ['너', '누구', '니', '?']\n",
      "output :  ['저', '는', '네트', '에', '사', '는', '인공', '생명체', '아담', '입니다', '.', '</s>']\n",
      "\n",
      "input  :  ['여자', '랑', '남자', '중', '에', '뭐', '가', '더', '좋', '아', '?']\n",
      "output :  ['다', '잘', '먹', '는', '데', '사', '주', '실', '건가요', '?', '</s>']\n",
      "\n",
      "input  :  ['내게', '어떤', '도움', '을', '줄', '수', '있', '어', '?']\n",
      "output :  ['당신', '이', '궁금해하', '는', '것', '같', '알려', '드릴', '수', '있', '어요', '.', '</s>']\n",
      "\n",
      "input  :  ['너', '몇', '살', '?']\n",
      "output :  ['두', '살', '입니다', '.', '!', '!', '^^', '</s>']\n",
      "\n",
      "input  :  ['SNS', 'ID', '계정', '알려줘']\n",
      "output :  ['칭찬', '을', '계속', '을', '한', '게', '너무', '해요', '.', '.', '</s>']\n",
      "\n",
      "input  :  ['법률', '에', '대해', '답변', '해', '줄', '수', '있', '니', '?']\n",
      "output :  ['네', '.', '.', '?', '어떤', '고민', '이', '신', '가요', '!', '!', '</s>']\n",
      "\n",
      "input  :  ['아담', '솔트룩스', '어떤', '것', '같', '아', '?']\n",
      "output :  ['위대', '한', '기업', '?', '</s>']\n",
      "\n",
      "input  :  ['바쁘', '지', '않', '을', '때', '뭐', '해', '?']\n",
      "output :  ['바쁘', '던', '안', '바쁘', '던', '공부', '해요', '~', '</s>']\n",
      "\n",
      "input  :  ['어떤', '은행', '이용', '해', '?']\n",
      "output :  ['네', '!', '맨날', '사용', '불러', '주', '셔도', '돼요', '~', '</s>']\n",
      "\n",
      "input  :  ['이름', '이', '아담', '인', '까닭', '이', '뭐', '야', '?']\n",
      "output :  ['저', '는', '당신', '이', '죠', '.', '이', '이상', '의', '설명', '이', '필요', '한가요', '?', '</s>']\n",
      "\n",
      "input  :  ['너', '는', '잠자', '는', '시간', '이', '언제', '야', '?']\n",
      "output :  ['조금', '만', '참', '아요', '!', '</s>']\n",
      "\n",
      "input  :  ['너', '도', '꿈', '이', '란', '걸', '경험', '해', '본', '적', '이', '있', '어', '?']\n",
      "output :  ['저', '도', '있', '는', '거짓말', '이', '없', '어요', '!', '</s>']\n",
      "\n",
      "input  :  ['아담', '이', '뭔지', '알', '아', '?']\n",
      "output :  ['전', '좋', '아', '해요', '!', '!', '</s>']\n",
      "\n",
      "input  :  ['너', '의', '직업', '에', '대해', '말', '해', '줘']\n",
      "output :  ['제', '직업', '은', '사람', '이', '에요', '.', '</s>']\n",
      "\n",
      "input  :  ['번역', '할', '수', '있', '어', '?']\n",
      "output :  ['당연', '하', '죠', '~', '저', '는', '당신', '의', '도우미', '에', '요', '</s>']\n",
      "\n"
     ]
    }
   ],
   "source": [
    "for test_pair in test_pairs:\n",
    "    print(\"input  : \", test_pair[0])\n",
    "    print(\"output : \", evaluate(encoder, decoder, test_pair[0]))\n",
    "    print()"
   ]
  },
  {
   "cell_type": "code",
   "execution_count": 34,
   "metadata": {},
   "outputs": [
    {
     "name": "stdout",
     "output_type": "stream",
     "text": [
      "남자친구 있는지 말해줄래?\n"
     ]
    },
    {
     "ename": "KeyError",
     "evalue": "'친'",
     "output_type": "error",
     "traceback": [
      "\u001b[0;31m---------------------------------------------------------------------------\u001b[0m",
      "\u001b[0;31mKeyError\u001b[0m                                  Traceback (most recent call last)",
      "\u001b[0;32m<ipython-input-34-2429e4d2d529>\u001b[0m in \u001b[0;36m<module>\u001b[0;34m()\u001b[0m\n\u001b[1;32m      1\u001b[0m \u001b[0;32mfor\u001b[0m \u001b[0mi\u001b[0m \u001b[0;32min\u001b[0m \u001b[0mrange\u001b[0m\u001b[0;34m(\u001b[0m\u001b[0;36m5\u001b[0m\u001b[0;34m)\u001b[0m\u001b[0;34m:\u001b[0m\u001b[0;34m\u001b[0m\u001b[0m\n\u001b[1;32m      2\u001b[0m     \u001b[0minput_sentence\u001b[0m \u001b[0;34m=\u001b[0m \u001b[0minput\u001b[0m\u001b[0;34m(\u001b[0m\u001b[0;34m)\u001b[0m\u001b[0;34m\u001b[0m\u001b[0m\n\u001b[0;32m----> 3\u001b[0;31m     \u001b[0mprint\u001b[0m\u001b[0;34m(\u001b[0m\u001b[0;34m\"output : \"\u001b[0m\u001b[0;34m,\u001b[0m \u001b[0mevaluate\u001b[0m\u001b[0;34m(\u001b[0m\u001b[0mencoder\u001b[0m\u001b[0;34m,\u001b[0m \u001b[0mdecoder\u001b[0m\u001b[0;34m,\u001b[0m \u001b[0minput_sentence\u001b[0m\u001b[0;34m)\u001b[0m\u001b[0;34m)\u001b[0m\u001b[0;34m\u001b[0m\u001b[0m\n\u001b[0m\u001b[1;32m      4\u001b[0m     \u001b[0mprint\u001b[0m\u001b[0;34m(\u001b[0m\u001b[0;34m)\u001b[0m\u001b[0;34m\u001b[0m\u001b[0m\n",
      "\u001b[0;32m<ipython-input-22-d1b1af31e6e4>\u001b[0m in \u001b[0;36mevaluate\u001b[0;34m(encoder, decoder, sentence, max_length)\u001b[0m\n\u001b[1;32m      1\u001b[0m \u001b[0;32mdef\u001b[0m \u001b[0mevaluate\u001b[0m\u001b[0;34m(\u001b[0m\u001b[0mencoder\u001b[0m\u001b[0;34m,\u001b[0m \u001b[0mdecoder\u001b[0m\u001b[0;34m,\u001b[0m \u001b[0msentence\u001b[0m\u001b[0;34m,\u001b[0m \u001b[0mmax_length\u001b[0m\u001b[0;34m=\u001b[0m\u001b[0mMAX_LENGTH\u001b[0m\u001b[0;34m)\u001b[0m\u001b[0;34m:\u001b[0m\u001b[0;34m\u001b[0m\u001b[0m\n\u001b[0;32m----> 2\u001b[0;31m     \u001b[0minput_variable\u001b[0m \u001b[0;34m=\u001b[0m \u001b[0mvariableFromSentence\u001b[0m\u001b[0;34m(\u001b[0m\u001b[0minput_data\u001b[0m\u001b[0;34m,\u001b[0m \u001b[0msentence\u001b[0m\u001b[0;34m)\u001b[0m\u001b[0;34m\u001b[0m\u001b[0m\n\u001b[0m\u001b[1;32m      3\u001b[0m     \u001b[0minput_length\u001b[0m \u001b[0;34m=\u001b[0m \u001b[0minput_variable\u001b[0m\u001b[0;34m.\u001b[0m\u001b[0msize\u001b[0m\u001b[0;34m(\u001b[0m\u001b[0;34m)\u001b[0m\u001b[0;34m[\u001b[0m\u001b[0;36m0\u001b[0m\u001b[0;34m]\u001b[0m\u001b[0;34m\u001b[0m\u001b[0m\n\u001b[1;32m      4\u001b[0m     \u001b[0mencoder_hidden\u001b[0m \u001b[0;34m=\u001b[0m \u001b[0mencoder\u001b[0m\u001b[0;34m.\u001b[0m\u001b[0minitHidden\u001b[0m\u001b[0;34m(\u001b[0m\u001b[0;34m)\u001b[0m\u001b[0;34m\u001b[0m\u001b[0m\n\u001b[1;32m      5\u001b[0m \u001b[0;34m\u001b[0m\u001b[0m\n",
      "\u001b[0;32m<ipython-input-11-cbc477753ec7>\u001b[0m in \u001b[0;36mvariableFromSentence\u001b[0;34m(data, sentence)\u001b[0m\n\u001b[1;32m      1\u001b[0m \u001b[0;32mdef\u001b[0m \u001b[0mvariableFromSentence\u001b[0m\u001b[0;34m(\u001b[0m\u001b[0mdata\u001b[0m\u001b[0;34m,\u001b[0m \u001b[0msentence\u001b[0m\u001b[0;34m)\u001b[0m\u001b[0;34m:\u001b[0m\u001b[0;34m\u001b[0m\u001b[0m\n\u001b[0;32m----> 2\u001b[0;31m     \u001b[0mindexes\u001b[0m \u001b[0;34m=\u001b[0m \u001b[0mindexesFromSentence\u001b[0m\u001b[0;34m(\u001b[0m\u001b[0mdata\u001b[0m\u001b[0;34m,\u001b[0m \u001b[0msentence\u001b[0m\u001b[0;34m)\u001b[0m\u001b[0;34m\u001b[0m\u001b[0m\n\u001b[0m\u001b[1;32m      3\u001b[0m     \u001b[0mindexes\u001b[0m\u001b[0;34m.\u001b[0m\u001b[0mappend\u001b[0m\u001b[0;34m(\u001b[0m\u001b[0mEOS_IDX\u001b[0m\u001b[0;34m)\u001b[0m\u001b[0;34m\u001b[0m\u001b[0m\n\u001b[1;32m      4\u001b[0m     \u001b[0mresult\u001b[0m \u001b[0;34m=\u001b[0m \u001b[0mVariable\u001b[0m\u001b[0;34m(\u001b[0m\u001b[0mtorch\u001b[0m\u001b[0;34m.\u001b[0m\u001b[0mLongTensor\u001b[0m\u001b[0;34m(\u001b[0m\u001b[0mindexes\u001b[0m\u001b[0;34m)\u001b[0m\u001b[0;34m.\u001b[0m\u001b[0mview\u001b[0m\u001b[0;34m(\u001b[0m\u001b[0;34m-\u001b[0m\u001b[0;36m1\u001b[0m\u001b[0;34m,\u001b[0m \u001b[0;36m1\u001b[0m\u001b[0;34m)\u001b[0m\u001b[0;34m)\u001b[0m\u001b[0;34m\u001b[0m\u001b[0m\n\u001b[1;32m      5\u001b[0m     \u001b[0;32mif\u001b[0m \u001b[0mUSE_CUDA\u001b[0m\u001b[0;34m:\u001b[0m\u001b[0;34m\u001b[0m\u001b[0m\n",
      "\u001b[0;32m<ipython-input-10-be9185f9e716>\u001b[0m in \u001b[0;36mindexesFromSentence\u001b[0;34m(data, sentence)\u001b[0m\n\u001b[1;32m      1\u001b[0m \u001b[0;32mdef\u001b[0m \u001b[0mindexesFromSentence\u001b[0m\u001b[0;34m(\u001b[0m\u001b[0mdata\u001b[0m\u001b[0;34m,\u001b[0m \u001b[0msentence\u001b[0m\u001b[0;34m)\u001b[0m\u001b[0;34m:\u001b[0m\u001b[0;34m\u001b[0m\u001b[0m\n\u001b[0;32m----> 2\u001b[0;31m     \u001b[0;32mreturn\u001b[0m \u001b[0;34m[\u001b[0m\u001b[0mdata\u001b[0m\u001b[0;34m.\u001b[0m\u001b[0mword2index\u001b[0m\u001b[0;34m[\u001b[0m\u001b[0mword\u001b[0m\u001b[0;34m]\u001b[0m \u001b[0;32mfor\u001b[0m \u001b[0mword\u001b[0m \u001b[0;32min\u001b[0m \u001b[0msentence\u001b[0m\u001b[0;34m]\u001b[0m\u001b[0;34m\u001b[0m\u001b[0m\n\u001b[0m",
      "\u001b[0;32m<ipython-input-10-be9185f9e716>\u001b[0m in \u001b[0;36m<listcomp>\u001b[0;34m(.0)\u001b[0m\n\u001b[1;32m      1\u001b[0m \u001b[0;32mdef\u001b[0m \u001b[0mindexesFromSentence\u001b[0m\u001b[0;34m(\u001b[0m\u001b[0mdata\u001b[0m\u001b[0;34m,\u001b[0m \u001b[0msentence\u001b[0m\u001b[0;34m)\u001b[0m\u001b[0;34m:\u001b[0m\u001b[0;34m\u001b[0m\u001b[0m\n\u001b[0;32m----> 2\u001b[0;31m     \u001b[0;32mreturn\u001b[0m \u001b[0;34m[\u001b[0m\u001b[0mdata\u001b[0m\u001b[0;34m.\u001b[0m\u001b[0mword2index\u001b[0m\u001b[0;34m[\u001b[0m\u001b[0mword\u001b[0m\u001b[0;34m]\u001b[0m \u001b[0;32mfor\u001b[0m \u001b[0mword\u001b[0m \u001b[0;32min\u001b[0m \u001b[0msentence\u001b[0m\u001b[0;34m]\u001b[0m\u001b[0;34m\u001b[0m\u001b[0m\n\u001b[0m",
      "\u001b[0;31mKeyError\u001b[0m: '친'"
     ]
    }
   ],
   "source": [
    "for i in range(5):\n",
    "    input_sentence = input()\n",
    "    print(\"output : \", evaluate(encoder, decoder, input_sentence))\n",
    "    print()"
   ]
  },
  {
   "cell_type": "code",
   "execution_count": null,
   "metadata": {},
   "outputs": [],
   "source": []
  }
 ],
 "metadata": {
  "kernelspec": {
   "display_name": "Python 3",
   "language": "python",
   "name": "python3"
  },
  "language_info": {
   "codemirror_mode": {
    "name": "ipython",
    "version": 3
   },
   "file_extension": ".py",
   "mimetype": "text/x-python",
   "name": "python",
   "nbconvert_exporter": "python",
   "pygments_lexer": "ipython3",
   "version": "3.6.3"
  }
 },
 "nbformat": 4,
 "nbformat_minor": 2
}
