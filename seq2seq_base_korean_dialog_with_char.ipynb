{
 "cells": [
  {
   "cell_type": "code",
   "execution_count": 1,
   "metadata": {},
   "outputs": [],
   "source": [
    "import os\n",
    "import pickle\n",
    "import shutil\n",
    "import re\n",
    "import time\n",
    "import math\n",
    "\n",
    "import torch\n",
    "import torch.nn as nn\n",
    "from torch.autograd import Variable\n",
    "import torch.nn.functional as F\n",
    "import torch.optim as optim\n",
    "import random\n",
    "import numpy as np\n",
    "\n",
    "from tqdm import tqdm\n",
    "\n",
    "import matplotlib.pyplot as plt\n",
    "import matplotlib.ticker as ticker"
   ]
  },
  {
   "cell_type": "code",
   "execution_count": 2,
   "metadata": {},
   "outputs": [],
   "source": [
    "USE_CUDA = torch.cuda.is_available()\n",
    "#USE_CUDA = False\n",
    "GPU_ID = 0"
   ]
  },
  {
   "cell_type": "markdown",
   "metadata": {},
   "source": [
    "# 1. Preprocess Dataset"
   ]
  },
  {
   "cell_type": "code",
   "execution_count": 3,
   "metadata": {},
   "outputs": [],
   "source": [
    "SOS_IDX = 0\n",
    "EOS_IDX = 1\n",
    "\n",
    "MAX_LENGTH = 30 + 1"
   ]
  },
  {
   "cell_type": "code",
   "execution_count": 4,
   "metadata": {},
   "outputs": [],
   "source": [
    "class Data:\n",
    "    def __init__(self):\n",
    "        self.word2index = {}\n",
    "        self.word2count = {}\n",
    "        self.index2word = {SOS_IDX: \"<s>\", EOS_IDX: \"</s>\"}\n",
    "        self.n_words = 2  # Count SOS and EOS\n",
    "\n",
    "    def addSentence(self, sentence):\n",
    "        for word in sentence:\n",
    "            self.addWord(word)\n",
    "\n",
    "    def addWord(self, word):\n",
    "        if word not in self.word2index:\n",
    "            self.word2index[word] = self.n_words\n",
    "            self.word2count[word] = 1\n",
    "            self.index2word[self.n_words] = word\n",
    "            self.n_words += 1\n",
    "        else:\n",
    "            self.word2count[word] += 1"
   ]
  },
  {
   "cell_type": "code",
   "execution_count": 5,
   "metadata": {},
   "outputs": [],
   "source": [
    "SRC_FILENAME = 'dataset/korean_humor/korean_humor_source.txt'\n",
    "TGT_FILENAME = 'dataset/korean_humor/korean_humor_target.txt'"
   ]
  },
  {
   "cell_type": "code",
   "execution_count": 6,
   "metadata": {},
   "outputs": [],
   "source": [
    "def normalizeString(s):\n",
    "    #s = s.lower().strip()\n",
    "    s = re.sub(r\"([.!?])\", r\" \\1\", s)\n",
    "    #s = re.sub(r\"[^a-zA-Z.!?]+\", r\" \", s)\n",
    "    return s"
   ]
  },
  {
   "cell_type": "code",
   "execution_count": 7,
   "metadata": {},
   "outputs": [],
   "source": [
    "def readData(src_fileName, tgt_fileName, reverse=False):\n",
    "    print(\"Reading lines...\")\n",
    "\n",
    "    # Read the file and split into lines\n",
    "    src_lines = open(src_fileName, 'r', encoding='utf-8').readlines()\n",
    "    tgt_lines = open(tgt_fileName, 'r', encoding='utf-8').readlines()\n",
    "    \n",
    "    # Split every line into pairs and normalize\n",
    "    pairs = [[normalizeString(src_lines[i][:-1]), normalizeString(tgt_lines[i][:-1])] for i in range(len(src_lines))]\n",
    "\n",
    "    # Reverse pairs, make Lang instances\n",
    "    if reverse:\n",
    "        pairs = [list(reversed(p)) for p in pairs]\n",
    "        input_data = Data()\n",
    "        output_data = Data()\n",
    "    else:\n",
    "        input_data = Data()\n",
    "        output_data = Data()\n",
    "\n",
    "    print(\"Success!\")\n",
    "    \n",
    "    return input_data, output_data, pairs"
   ]
  },
  {
   "cell_type": "code",
   "execution_count": 8,
   "metadata": {},
   "outputs": [],
   "source": [
    "def filterPair(p):\n",
    "    return len(p[0]) < MAX_LENGTH and \\\n",
    "        len(p[1]) < MAX_LENGTH\n",
    "\n",
    "def filterPairs(pairs):\n",
    "    pairs = [[list(pair[0]), list(pair[1])] for pair in pairs]\n",
    "    return [pair for pair in pairs if filterPair(pair)]"
   ]
  },
  {
   "cell_type": "code",
   "execution_count": 9,
   "metadata": {},
   "outputs": [],
   "source": [
    "def prepareData(src_fileName, tgt_fileName, reverse=False):\n",
    "    input_data, output_data, pairs = readData(src_fileName, tgt_fileName)\n",
    "    print(\"Read %s sentence pairs\" % len(pairs))\n",
    "    pairs = filterPairs(pairs)\n",
    "    print(\"Trimmed to %s sentence pairs\" % len(pairs))\n",
    "    print(\"Counting words...\")\n",
    "    for pair in pairs:\n",
    "        input_data.addSentence(pair[0])\n",
    "        output_data.addSentence(pair[1])\n",
    "    print(\"Counted words :\")\n",
    "    print(\"- Input data  :\", input_data.n_words)\n",
    "    print(\"- Output data :\", output_data.n_words)\n",
    "    \n",
    "    return input_data, output_data, pairs"
   ]
  },
  {
   "cell_type": "code",
   "execution_count": 10,
   "metadata": {},
   "outputs": [
    {
     "name": "stdout",
     "output_type": "stream",
     "text": [
      "Reading lines...\n",
      "Success!\n",
      "Read 2483 sentence pairs\n",
      "Trimmed to 2078 sentence pairs\n",
      "Counting words...\n",
      "Counted words :\n",
      "- Input data  : 772\n",
      "- Output data : 609\n"
     ]
    },
    {
     "data": {
      "text/plain": [
       "[['얌', '마'],\n",
       " ['그',\n",
       "  ' ',\n",
       "  '단',\n",
       "  '어',\n",
       "  '보',\n",
       "  '다',\n",
       "  '는',\n",
       "  ' ',\n",
       "  '아',\n",
       "  '담',\n",
       "  '아',\n",
       "  '~',\n",
       "  '라',\n",
       "  '고',\n",
       "  ' ',\n",
       "  '이',\n",
       "  '쁘',\n",
       "  '게',\n",
       "  ' ',\n",
       "  '불',\n",
       "  '러',\n",
       "  '주',\n",
       "  '세',\n",
       "  '요',\n",
       "  '~']]"
      ]
     },
     "execution_count": 10,
     "metadata": {},
     "output_type": "execute_result"
    }
   ],
   "source": [
    "input_data, output_data, pairs = prepareData(SRC_FILENAME, TGT_FILENAME)\n",
    "random.choice(pairs)"
   ]
  },
  {
   "cell_type": "code",
   "execution_count": 11,
   "metadata": {},
   "outputs": [],
   "source": [
    "train_data = [d for d in pairs[:10000]]\n",
    "test_data = [d for d in pairs[:1000]]\n",
    "dev_data = [d for d in pairs[:1000]]"
   ]
  },
  {
   "cell_type": "code",
   "execution_count": 12,
   "metadata": {},
   "outputs": [],
   "source": [
    "def indexesFromSentence(data, sentence):\n",
    "    return [data.word2index[word] for word in sentence]"
   ]
  },
  {
   "cell_type": "code",
   "execution_count": 13,
   "metadata": {},
   "outputs": [],
   "source": [
    "def variableFromSentence(data, sentence):\n",
    "    indexes = indexesFromSentence(data, sentence)\n",
    "    indexes.append(EOS_IDX)\n",
    "    result = Variable(torch.LongTensor(indexes).view(-1, 1))\n",
    "    if USE_CUDA:\n",
    "        return result.cuda(GPU_ID)\n",
    "    else:\n",
    "        return result"
   ]
  },
  {
   "cell_type": "code",
   "execution_count": 14,
   "metadata": {},
   "outputs": [],
   "source": [
    "def variablesFromPair(pair):\n",
    "    input_variable = variableFromSentence(input_data, pair[0])\n",
    "    target_variable = variableFromSentence(output_data, pair[1])\n",
    "    return (input_variable, target_variable)"
   ]
  },
  {
   "cell_type": "markdown",
   "metadata": {},
   "source": [
    "# 3. Define Model"
   ]
  },
  {
   "cell_type": "code",
   "execution_count": 15,
   "metadata": {},
   "outputs": [],
   "source": [
    "INPUT_SIZE = input_data.n_words  # Num of Words\n",
    "HIDDEN_SIZE = 50  # Embedding Dimension\n",
    "OUTPUT_SIZE = output_data.n_words"
   ]
  },
  {
   "cell_type": "code",
   "execution_count": 16,
   "metadata": {},
   "outputs": [],
   "source": [
    "class EncoderRNN(nn.Module):\n",
    "    def __init__(self, input_size, hidden_size):\n",
    "        super(EncoderRNN, self).__init__()\n",
    "        self.hidden_size = hidden_size\n",
    "\n",
    "        self.embedding = nn.Embedding(input_size, hidden_size)\n",
    "        self.gru = nn.GRU(hidden_size, hidden_size)\n",
    "        \n",
    "\n",
    "    def forward(self, input, hidden):\n",
    "        embedded = self.embedding(input).view(1, 1, -1)\n",
    "        output = embedded\n",
    "        output, hidden = self.gru(output, hidden)\n",
    "        return output, hidden\n",
    "\n",
    "    def initHidden(self):\n",
    "        result = Variable(torch.zeros(1, 1, self.hidden_size))\n",
    "        if USE_CUDA:\n",
    "            return result.cuda(GPU_ID)\n",
    "        else:\n",
    "            return result"
   ]
  },
  {
   "cell_type": "code",
   "execution_count": 17,
   "metadata": {},
   "outputs": [],
   "source": [
    "class DecoderRNN(nn.Module):\n",
    "    def __init__(self, hidden_size, output_size):\n",
    "        super(DecoderRNN, self).__init__()\n",
    "        self.hidden_size = hidden_size\n",
    "\n",
    "        self.embedding = nn.Embedding(output_size, hidden_size)\n",
    "        self.gru = nn.GRU(hidden_size, hidden_size)\n",
    "        self.out = nn.Linear(hidden_size, output_size)\n",
    "        self.softmax = nn.LogSoftmax(dim=1)\n",
    "\n",
    "    def forward(self, input, hidden):\n",
    "        output = self.embedding(input).view(1, 1, -1)\n",
    "        output = F.relu(output)\n",
    "        output, hidden = self.gru(output, hidden)\n",
    "        output = self.softmax(self.out(output[0]))\n",
    "        return output, hidden\n",
    "\n",
    "    def initHidden(self):\n",
    "        result = Variable(torch.zeros(1, 1, self.hidden_size))\n",
    "        if USE_CUDA:\n",
    "            return result.cuda(GPU_ID)\n",
    "        else:\n",
    "            return result"
   ]
  },
  {
   "cell_type": "code",
   "execution_count": 18,
   "metadata": {},
   "outputs": [],
   "source": [
    "teacher_forcing_ratio = 0.5\n",
    "\n",
    "def train(input_variable, target_variable, encoder, decoder, encoder_optimizer, decoder_optimizer,\n",
    "          criterion, max_length=MAX_LENGTH):\n",
    "    encoder_hidden = encoder.initHidden()\n",
    "\n",
    "    encoder_optimizer.zero_grad()\n",
    "    decoder_optimizer.zero_grad()\n",
    "\n",
    "    input_length = input_variable.size()[0]\n",
    "    target_length = target_variable.size()[0]\n",
    "\n",
    "    encoder_outputs = Variable(torch.zeros(max_length, encoder.hidden_size))\n",
    "    encoder_outputs = encoder_outputs.cuda(GPU_ID) if USE_CUDA else encoder_outputs\n",
    "\n",
    "    loss = 0\n",
    "\n",
    "    for ei in range(input_length):\n",
    "        encoder_output, encoder_hidden = encoder(input_variable[ei], encoder_hidden)\n",
    "        #print(ei, input_variable[ei], encoder_output.size())\n",
    "        encoder_outputs[ei] = encoder_output[0][0]\n",
    "\n",
    "    decoder_input = Variable(torch.LongTensor([[SOS_IDX]]))\n",
    "    decoder_input = decoder_input.cuda(GPU_ID) if USE_CUDA else decoder_input\n",
    "\n",
    "    decoder_hidden = encoder_hidden\n",
    "\n",
    "    use_teacher_forcing = True if random.random() < teacher_forcing_ratio else False\n",
    "\n",
    "    if use_teacher_forcing:\n",
    "        # Teacher forcing: Feed the target as the next input\n",
    "        for di in range(target_length):\n",
    "            decoder_output, decoder_hidden = decoder(decoder_input, decoder_hidden)\n",
    "            loss += criterion(decoder_output, target_variable[di])\n",
    "            decoder_input = target_variable[di]  # Teacher forcing\n",
    "\n",
    "    else:\n",
    "        # Without teacher forcing: use its own predictions as the next input\n",
    "        for di in range(target_length):\n",
    "            decoder_output, decoder_hidden = decoder(decoder_input, decoder_hidden)\n",
    "            topv, topi = decoder_output.data.topk(1)\n",
    "            ni = topi[0][0]\n",
    "\n",
    "            decoder_input = Variable(torch.LongTensor([[ni]]))\n",
    "            decoder_input = decoder_input.cuda(GPU_ID) if USE_CUDA else decoder_input\n",
    "\n",
    "            loss += criterion(decoder_output, target_variable[di])\n",
    "            if ni == EOS_IDX:\n",
    "                break\n",
    "\n",
    "    loss.backward()\n",
    "\n",
    "    encoder_optimizer.step()\n",
    "    decoder_optimizer.step()\n",
    "\n",
    "    return loss.data[0] / target_length"
   ]
  },
  {
   "cell_type": "code",
   "execution_count": 19,
   "metadata": {},
   "outputs": [],
   "source": [
    "def trainIters(encoder, decoder, n_iters, print_every=1000, plot_every=100, learning_rate=0.01):\n",
    "    start = time.time()\n",
    "    plot_losses = []\n",
    "    print_loss_total = 0  # Reset every print_every\n",
    "    plot_loss_total = 0  # Reset every plot_every\n",
    "\n",
    "    encoder_optimizer = optim.SGD(encoder.parameters(), lr=learning_rate)\n",
    "    decoder_optimizer = optim.SGD(decoder.parameters(), lr=learning_rate)\n",
    "    training_pairs = [variablesFromPair(random.choice(pairs))\n",
    "                      for i in range(n_iters)]\n",
    "    criterion = nn.NLLLoss()\n",
    "\n",
    "    for iter in range(1, n_iters + 1):\n",
    "        training_pair = training_pairs[iter - 1]\n",
    "        input_variable = training_pair[0]\n",
    "        target_variable = training_pair[1]\n",
    "\n",
    "        loss = train(input_variable, target_variable, encoder,\n",
    "                     decoder, encoder_optimizer, decoder_optimizer, criterion)\n",
    "        print_loss_total += loss\n",
    "        plot_loss_total += loss\n",
    "\n",
    "        if iter % print_every == 0:\n",
    "            print_loss_avg = print_loss_total / print_every\n",
    "            print_loss_total = 0\n",
    "            print('%s (%d %d%%) %.4f' % (timeSince(start, iter / n_iters),\n",
    "                                         iter, iter / n_iters * 100, print_loss_avg))\n",
    "\n",
    "        if iter % plot_every == 0:\n",
    "            plot_loss_avg = plot_loss_total / plot_every\n",
    "            plot_losses.append(plot_loss_avg)\n",
    "            plot_loss_total = 0\n",
    "\n",
    "    showPlot(plot_losses)"
   ]
  },
  {
   "cell_type": "code",
   "execution_count": 20,
   "metadata": {},
   "outputs": [],
   "source": [
    "def asMinutes(s):\n",
    "    m = math.floor(s / 60)\n",
    "    s -= m * 60\n",
    "    return '%dm %ds' % (m, s)"
   ]
  },
  {
   "cell_type": "code",
   "execution_count": 21,
   "metadata": {},
   "outputs": [],
   "source": [
    "def timeSince(since, percent):\n",
    "    now = time.time()\n",
    "    s = now - since\n",
    "    es = s / (percent)\n",
    "    rs = es - s\n",
    "    return '%s (- %s)' % (asMinutes(s), asMinutes(rs))"
   ]
  },
  {
   "cell_type": "code",
   "execution_count": 22,
   "metadata": {},
   "outputs": [],
   "source": [
    "def showPlot(points):\n",
    "    plt.figure()\n",
    "    fig, ax = plt.subplots()\n",
    "    # this locator puts ticks at regular intervals\n",
    "    loc = ticker.MultipleLocator(base=0.2)\n",
    "    ax.yaxis.set_major_locator(loc)\n",
    "    plt.plot(points)"
   ]
  },
  {
   "cell_type": "code",
   "execution_count": 23,
   "metadata": {},
   "outputs": [],
   "source": [
    "def evaluate(encoder, decoder, sentence, max_length=MAX_LENGTH):\n",
    "    input_variable = variableFromSentence(input_data, sentence)\n",
    "    input_length = input_variable.size()[0]\n",
    "    encoder_hidden = encoder.initHidden()\n",
    "\n",
    "    encoder_outputs = Variable(torch.zeros(max_length, encoder.hidden_size))\n",
    "    encoder_outputs = encoder_outputs.cuda(GPU_ID) if USE_CUDA else encoder_outputs\n",
    "\n",
    "    for ei in range(input_length):\n",
    "        encoder_output, encoder_hidden = encoder(input_variable[ei],\n",
    "                                                 encoder_hidden)\n",
    "        encoder_outputs[ei] = encoder_outputs[ei] + encoder_output[0][0]\n",
    "\n",
    "    decoder_input = Variable(torch.LongTensor([[SOS_IDX]]))  # SOS\n",
    "    decoder_input = decoder_input.cuda(GPU_ID) if USE_CUDA else decoder_input\n",
    "\n",
    "    decoder_hidden = encoder_hidden\n",
    "\n",
    "    decoded_words = []\n",
    "    decoder_attentions = torch.zeros(max_length, max_length)\n",
    "\n",
    "    for di in range(max_length):\n",
    "        decoder_output, decoder_hidden = decoder(decoder_input, decoder_hidden)\n",
    "        topv, topi = decoder_output.data.topk(1)\n",
    "        ni = topi[0][0]\n",
    "        if ni == EOS_IDX:\n",
    "            decoded_words.append('</s>')\n",
    "            break\n",
    "        else:\n",
    "            decoded_words.append(output_data.index2word[ni])\n",
    "\n",
    "        decoder_input = Variable(torch.LongTensor([[ni]]))\n",
    "        decoder_input = decoder_input.cuda(GPU_ID) if USE_CUDA else decoder_input\n",
    "\n",
    "    return decoded_words"
   ]
  },
  {
   "cell_type": "code",
   "execution_count": 24,
   "metadata": {},
   "outputs": [],
   "source": [
    "def evaluateRandomly(encoder, decoder, n=10):\n",
    "    for i in range(n):\n",
    "        pair = random.choice(pairs)\n",
    "        print('>', pair[0])\n",
    "        print('=', pair[1])\n",
    "        output_words = evaluate(encoder, decoder, pair[0])\n",
    "        output_sentence = ' '.join(output_words)\n",
    "        print('<', output_sentence)\n",
    "        print('')"
   ]
  },
  {
   "cell_type": "code",
   "execution_count": 25,
   "metadata": {},
   "outputs": [],
   "source": [
    "NUM_ITER = 250000"
   ]
  },
  {
   "cell_type": "code",
   "execution_count": null,
   "metadata": {
    "scrolled": true
   },
   "outputs": [],
   "source": [
    "encoder = EncoderRNN(INPUT_SIZE, HIDDEN_SIZE)\n",
    "decoder = DecoderRNN(HIDDEN_SIZE, OUTPUT_SIZE)\n",
    "if USE_CUDA:\n",
    "    encoder.cuda(GPU_ID)\n",
    "    decoder.cuda(GPU_ID)"
   ]
  },
  {
   "cell_type": "code",
   "execution_count": null,
   "metadata": {
    "scrolled": true
   },
   "outputs": [
    {
     "name": "stdout",
     "output_type": "stream",
     "text": [
      "16m 55s (- 152m 20s) (25000 10%) 3.2903\n",
      "36m 55s (- 147m 42s) (50000 20%) 2.6892\n",
      "59m 32s (- 138m 55s) (75000 30%) 2.4577\n",
      "83m 4s (- 124m 36s) (100000 40%) 2.3428\n",
      "113m 28s (- 113m 28s) (125000 50%) 2.3036\n",
      "141m 2s (- 94m 1s) (150000 60%) 2.3445\n",
      "167m 50s (- 71m 55s) (175000 70%) 2.5439\n",
      "196m 1s (- 49m 0s) (200000 80%) 2.6744\n"
     ]
    }
   ],
   "source": [
    "trainIters(encoder, decoder, NUM_ITER, print_every=NUM_ITER/10, plot_every=NUM_ITER/100, learning_rate=1e-2)"
   ]
  },
  {
   "cell_type": "code",
   "execution_count": 29,
   "metadata": {},
   "outputs": [
    {
     "name": "stdout",
     "output_type": "stream",
     "text": [
      "> ['너', ' ', '진', '짜', ' ', '재', '밌', '다']\n",
      "= ['재', '밌', '죠', ' ', '!', ' ', '?', ' ', '더', ' ', '재', '밌', '게', ' ', '해', '드', '릴', ' ', '수', '도', ' ', '있', '어', '요', ' ', '!']\n",
      "< 재 밌 죠 ~   계 속   y o u   : D </s>\n",
      "\n",
      "> ['너', ' ', '성', '적', ' ', '좋', '아', ' ', '?']\n",
      "= ['공', '부', ' ', '.', ' ', '.', ' ', '잘', '하', '지', '는', ' ', '않', '지', '만', ' ', '열', '심', '히', ' ', '해', '요', ' ', '!']\n",
      "< 저 는                                     </s>\n",
      "\n",
      "> ['전', '쟁', ' ', '일', '어', '날', ' ', '것', ' ', '같', '아', ' ', '?']\n",
      "= ['제', ' ', '생', '각', '에', '는', ' ', '위', '태', '위', '태', ' ', '한', ' ', '것', ' ', '같', '아', '요', ' ', '.', ' ', '.']\n",
      "< 저 는                                                         </s>\n",
      "\n",
      "> ['인', '정']\n",
      "= ['인', '정', '하', '시', '죠', ' ', '?']\n",
      "< 인 성 합 니 다   . </s>\n",
      "\n",
      "> ['혹', '시', ' ', '너', '도', ' ', '친', '구', '가', ' ', '있', '어', ' ', '?']\n",
      "= ['친', '구', '는', ' ', '많', '죠', '~']\n",
      "< 저 는                                                         </s>\n",
      "\n",
      "> ['나', ' ', '오', '늘', ' ', '성', '적', ' ', '테', '스', '트', ' ', '봤', '어']\n",
      "= ['결', '과', '도', ' ', '중', '요', '하', '지', '만', ' ', '여', '태', '까', '지', ' ', '고', '생', ' ', '많', '으', '셨', '어', '요', '~']\n",
      "< 결 과 도   중   해   좋   어 면   좋 을   것   같 아 요   ! </s>\n",
      "\n",
      "> ['<', '<', '회', '식', '장', '소', ' ', ':', ' ', '장', '소', '>', '>', ' ', '추', '천', '해', '줘']\n",
      "= ['이', '태', '원', '에', ' ', '위', '치', '한', ' ', '고', '깃', '집', ' ', '텅', '앤', '그', '루', '브', '조', '인', '트', '요', ' ', '!']\n",
      "< 저 는                                                     </s>\n",
      "\n",
      "> ['아', '담', '아', ' ', '결', '혼', '하', '자']\n",
      "= ['저', '희', ' ', '사', '이', '가', ' ', '가', '까', '워', ' ', '지', '면', ' ', '그', '때', ' ', '생', '각', '해', ' ', '볼', '게', '요']\n",
      "< 저 는                                     </s>\n",
      "\n",
      "> ['만', '나', '서', ' ', '반', '가', '워']\n",
      "= ['반', '가', '워', '요', ' ', '!']\n",
      "< 칭 찬   들 으 졌   해 주 셔 요   !   ! </s>\n",
      "\n",
      "> ['영', '화', ' ', '좋', '아', '해', ' ', '?']\n",
      "= ['난', ' ', '엄', '청', '난', ' ', '영', '화', '광', '이', '야', ' ', '!']\n",
      "< 저 는                                                       </s>\n",
      "\n"
     ]
    }
   ],
   "source": [
    "evaluateRandomly(encoder, decoder)"
   ]
  },
  {
   "cell_type": "code",
   "execution_count": null,
   "metadata": {},
   "outputs": [],
   "source": []
  }
 ],
 "metadata": {
  "kernelspec": {
   "display_name": "Python 3",
   "language": "python",
   "name": "python3"
  },
  "language_info": {
   "codemirror_mode": {
    "name": "ipython",
    "version": 3
   },
   "file_extension": ".py",
   "mimetype": "text/x-python",
   "name": "python",
   "nbconvert_exporter": "python",
   "pygments_lexer": "ipython3",
   "version": "3.6.3"
  }
 },
 "nbformat": 4,
 "nbformat_minor": 2
}
